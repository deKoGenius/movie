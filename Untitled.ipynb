{
 "cells": [
  {
   "cell_type": "code",
   "execution_count": 23,
   "id": "11b2a0e5",
   "metadata": {},
   "outputs": [
    {
     "name": "stdout",
     "output_type": "stream",
     "text": [
      "title\n",
      "Toy Story (1995)                                                                  1.000000\n",
      "Toy Story 2 (1999)                                                                0.594710\n",
      "Star Wars: Episode IV - A New Hope (1977)                                         0.576188\n",
      "Forrest Gump (1994)                                                               0.564534\n",
      "Independence Day (a.k.a. ID4) (1996)                                              0.562946\n",
      "Groundhog Day (1993)                                                              0.548023\n",
      "Back to the Future (1985)                                                         0.536700\n",
      "Jurassic Park (1993)                                                              0.535197\n",
      "Shrek (2001)                                                                      0.532685\n",
      "Star Wars: Episode VI - Return of the Jedi (1983)                                 0.529334\n",
      "Pulp Fiction (1994)                                                               0.526862\n",
      "Matrix, The (1999)                                                                0.523429\n",
      "Men in Black (a.k.a. MIB) (1997)                                                  0.521122\n",
      "Monsters, Inc. (2001)                                                             0.520135\n",
      "Bug's Life, A (1998)                                                              0.519733\n",
      "Shawshank Redemption, The (1994)                                                  0.518560\n",
      "Lion King, The (1994)                                                             0.514347\n",
      "Aladdin (1992)                                                                    0.512544\n",
      "Sixth Sense, The (1999)                                                           0.508724\n",
      "Raiders of the Lost Ark (Indiana Jones and the Raiders of the Lost Ark) (1981)    0.505975\n",
      "Name: Toy Story (1995), dtype: float64\n"
     ]
    }
   ],
   "source": [
    "import pandas as pd\n",
    "import numpy as np\n",
    "import matplotlib.pyplot as plt\n",
    "from sklearn.metrics.pairwise import cosine_similarity\n",
    "\n",
    "rating_data = pd.read_csv('./movie/ratings.csv')\n",
    "movie_data = pd.read_csv('./movie/movies.csv')\n",
    "\n",
    "rating_data.drop('timestamp', axis=1, inplace=True)\n",
    "# print(rating_data.head())\n",
    "\n",
    "\n",
    "user_movie_data = pd.merge(rating_data, movie_data, on='movieId')\n",
    "\n",
    "\n",
    "title_user = user_movie_data.pivot_table('rating', index='title', columns='userId')\n",
    "title_user.fillna(0, inplace=True)\n",
    "# print(title_user)\n",
    "\n",
    "user_based_collab = cosine_similarity(title_user)\n",
    "# print(user_based_collab)\n",
    "user_based_collab = pd.DataFrame(user_based_collab, index=title_user.index ,columns=title_user.index)\n",
    "# print(user_based_collab.head())\n",
    "print(user_based_collab[\"Toy Story (1995)\"].sort_values(ascending=False).head(20))"
   ]
  },
  {
   "cell_type": "code",
   "execution_count": null,
   "id": "689fc9eb",
   "metadata": {},
   "outputs": [],
   "source": []
  }
 ],
 "metadata": {
  "kernelspec": {
   "display_name": "Python 3 (ipykernel)",
   "language": "python",
   "name": "python3"
  },
  "language_info": {
   "codemirror_mode": {
    "name": "ipython",
    "version": 3
   },
   "file_extension": ".py",
   "mimetype": "text/x-python",
   "name": "python",
   "nbconvert_exporter": "python",
   "pygments_lexer": "ipython3",
   "version": "3.10.4"
  }
 },
 "nbformat": 4,
 "nbformat_minor": 5
}
